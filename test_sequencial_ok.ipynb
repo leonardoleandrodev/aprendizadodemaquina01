{
  "nbformat": 4,
  "nbformat_minor": 0,
  "metadata": {
    "colab": {
      "name": "test sequencial ok.ipynb",
      "provenance": [],
      "collapsed_sections": [],
      "authorship_tag": "ABX9TyNhTteDneQZ+bf/VpHIMdvc",
      "include_colab_link": true
    },
    "kernelspec": {
      "name": "python3",
      "display_name": "Python 3"
    },
    "language_info": {
      "name": "python"
    }
  },
  "cells": [
    {
      "cell_type": "markdown",
      "metadata": {
        "id": "view-in-github",
        "colab_type": "text"
      },
      "source": [
        "<a href=\"https://colab.research.google.com/github/leonardoleandrodev/aprendizadodemaquina01/blob/main/test_sequencial_ok.ipynb\" target=\"_parent\"><img src=\"https://colab.research.google.com/assets/colab-badge.svg\" alt=\"Open In Colab\"/></a>"
      ]
    },
    {
      "cell_type": "code",
      "metadata": {
        "id": "DR29AOrljXFK"
      },
      "source": [
        "from numpy import loadtxt\n",
        "import numpy as np\n",
        "from keras.models import Sequential\n",
        "from sklearn.naive_bayes import MultinomialNB\n",
        "from keras.layers import Dense\n",
        "from pandas import read_csv as rc,factorize as fc,to_numeric as tnum,set_option as op"
      ],
      "execution_count": 2,
      "outputs": []
    },
    {
      "cell_type": "code",
      "metadata": {
        "id": "LUAC25ao1LvB"
      },
      "source": [
        "def getUniqueNumber(seq):\n",
        "    s = 0\n",
        "    for i,q in enumerate(seq):\n",
        "      s+=(q**(q+i))\n",
        "    return s"
      ],
      "execution_count": 3,
      "outputs": []
    },
    {
      "cell_type": "code",
      "metadata": {
        "id": "0D0J2Lp_jn9B"
      },
      "source": [
        "from random import randint as ri\n",
        "data=[]\n",
        "for k in range(1,100000):\n",
        "  nm = [ri(0,2) for k in range(6)]\n",
        "  #if not nm in data:\n",
        "  data.append(nm)\n",
        "\n",
        "res = []\n",
        "for d in data:\n",
        "  res.append(getUniqueNumber(d))\n",
        "\n",
        "resuniq = np.unique(res)\n",
        "tamres = len(np.unique(res))\n",
        "print(data[:10])\n",
        "print(res[:10])\n",
        "resuniq"
      ],
      "execution_count": null,
      "outputs": []
    },
    {
      "cell_type": "code",
      "metadata": {
        "id": "84hQaRtNlI93"
      },
      "source": [
        "from sklearn.model_selection import train_test_split\n",
        "val_treino,val_teste,val_res_treino,val_res_teste = train_test_split(data,res,test_size=0.1,train_size=0.5)\n",
        "\n",
        "#val_treino = np.array(val_treino)\n",
        "#val_teste = np.array(val_teste)\n",
        "#val_res_treino = np.array(val_res_treino)\n",
        "#val_res_teste = np.array(val_res_teste)\n"
      ],
      "execution_count": 5,
      "outputs": []
    },
    {
      "cell_type": "markdown",
      "metadata": {
        "id": "BKBlZpyMLOIN"
      },
      "source": [
        "MODELO NOMINAL\n"
      ]
    },
    {
      "cell_type": "code",
      "metadata": {
        "id": "Vm3aO7ldlSBy"
      },
      "source": [
        "# definir o modelo com keras\n",
        "model = MultinomialNB()\n",
        "model.fit(val_treino, val_res_treino)"
      ],
      "execution_count": null,
      "outputs": []
    },
    {
      "cell_type": "markdown",
      "metadata": {
        "id": "cjKl4fpfPHVe"
      },
      "source": [
        "Modelo Sequencial SOFTMAX(varias saidas)\n"
      ]
    },
    {
      "cell_type": "code",
      "metadata": {
        "id": "O0IpNb8ePL3w"
      },
      "source": [
        "from keras.wrappers.scikit_learn import KerasClassifier\n",
        "from keras.utils import np_utils\n",
        "from sklearn.model_selection import cross_val_score\n",
        "from sklearn.model_selection import KFold\n",
        "from sklearn.preprocessing import LabelEncoder\n",
        "X = np.array(val_treino)\n",
        "Y  = np.array(val_res_treino)\n",
        "\n",
        "def baseline_model():\n",
        "  # create model\n",
        "  model = Sequential()\n",
        "  model.add(Dense(20, input_dim=len(X[0]), activation='relu'))\n",
        "  model.add(Dense(20,  activation='relu'))\n",
        "  #model.add(Dense(20,  activation='relu'))\n",
        "  model.add(Dense(len(resuniq), activation='softmax'))\n",
        "  # Compile model\n",
        "  model.compile(loss='categorical_crossentropy', optimizer='adam', metrics=['accuracy'])\n",
        "  return model\n",
        "\n",
        "estimator = KerasClassifier(build_fn=baseline_model, epochs=30, batch_size=10,use_multiprocessing=True, verbose=1)\n"
      ],
      "execution_count": 6,
      "outputs": []
    },
    {
      "cell_type": "markdown",
      "metadata": {
        "id": "09gIGcfO41cf"
      },
      "source": [
        "TREINAMENTO"
      ]
    },
    {
      "cell_type": "code",
      "metadata": {
        "id": "1Q40fnn80SJy"
      },
      "source": [
        "estimator.fit(X,Y)\n",
        "#estimator.save('/content/random_seq_len4.h5')"
      ],
      "execution_count": null,
      "outputs": []
    },
    {
      "cell_type": "markdown",
      "metadata": {
        "id": "LYMcrhUJ4vJ3"
      },
      "source": [
        "VERIFICA PORCENTAGEM DE ACERTO(ACURÁCIA)"
      ]
    },
    {
      "cell_type": "code",
      "metadata": {
        "id": "SNZiB4zoZjAP"
      },
      "source": [
        "from sklearn.metrics import confusion_matrix,accuracy_score\n",
        "pred = estimator.predict(val_teste)\n",
        "accuracy = accuracy_score(val_res_teste, pred)\n",
        "mt = confusion_matrix(val_res_teste, pred)\n",
        "print(mt,f'\\nacuracia de {accuracy*100} %\\n')\n"
      ],
      "execution_count": null,
      "outputs": []
    },
    {
      "cell_type": "markdown",
      "metadata": {
        "id": "Sbpi0yse4pw0"
      },
      "source": [
        "VERIFICA ACERTOS"
      ]
    },
    {
      "cell_type": "code",
      "metadata": {
        "id": "BSZ8uG5m4f3d"
      },
      "source": [
        "import random as rn\n",
        "nm = rn.randint(1,len(X))\n",
        "confer = X[nm:nm+10]\n",
        "confer = [[1,2,2,2,1,2]]\n",
        "pred = estimator.predict(confer)\n",
        "\n",
        "for i,prd in enumerate(pred):\n",
        "  if list(confer[i]) == data[res.index(prd)]:\n",
        "    print(f'acertou! =D Proc:{list(confer[i])} Encontrado:{data[res.index(prd)]} ValorRes:{getUniqueNumber(data[res.index(prd)])} ValorPred:{getUniqueNumber(confer[i])} Index:{res.index(prd)} Id:{prd}')\n",
        "  else:\n",
        "    print(f'errou   =(( Proc:{list(confer[i])} Encontrado:{data[res.index(prd)]} ValorRes:{getUniqueNumber(data[res.index(prd)])} ValorPred:{getUniqueNumber(confer[i])} Index:{res.index(prd)} Id:{prd}')"
      ],
      "execution_count": null,
      "outputs": []
    },
    {
      "cell_type": "markdown",
      "metadata": {
        "id": "1TMiaEKXL85H"
      },
      "source": [
        "Modelo Sequencial sigmoid\n"
      ]
    },
    {
      "cell_type": "code",
      "metadata": {
        "id": "X1vwdsFHlkou"
      },
      "source": [
        "# definir o modelo com keras\n",
        "# inicializar o modelo sequencial\n",
        "\n",
        "#model = MultinomialNB()\n",
        "model = Sequential()\n",
        "# inicializar a primeira camada, com 12 neurÃ´nios, 8 entradas utilizando a funÃ§Ã£o ReLU\n",
        "model.add(Dense(5, input_dim=len(val_treino[0]), activation='relu'))\n",
        "#model.add(Dense(10, activation='relu'))\n",
        "#model.add(Dense(5, activation='sigmoid'))\n",
        "# inicializar a Ãºltima camada (camada de saÃ­da) com um neurÃ´nio e a funÃ§Ã£o Sigmoid/softmax\n",
        "model.add(Dense(1, activation='sigmoid'))\n",
        "# compile the keras model\n",
        "model.compile(loss='binary_crossentropy', optimizer='adam', metrics=['accuracy'])\n",
        "model.fit(val_treino, val_res_treino, epochs=100, batch_size=15,use_multiprocessing=False,verbose=1)"
      ],
      "execution_count": null,
      "outputs": []
    },
    {
      "cell_type": "code",
      "metadata": {
        "id": "3fPd6ZE8lzUK"
      },
      "source": [
        "\n",
        "#predictions = model.predict(val_teste)\n",
        "#from sklearn.metrics import confusion_matrix,accuracy_score\n",
        "#accuracy = accuracy_score(val_res_teste, predictions)\n",
        "#mt = confusion_matrix(val_res_teste, predictions)\n",
        "#print(mt,f'acuracia de {accuracy*100} %')\n",
        "pred = model.predict([[2,2,2,1]])\n",
        "\n",
        "#res.index(pred),res[res.index(pred)],data[res.index(pred)],getUniqueNumber(res.index(pred)),pred\n",
        "pred"
      ],
      "execution_count": null,
      "outputs": []
    }
  ]
}